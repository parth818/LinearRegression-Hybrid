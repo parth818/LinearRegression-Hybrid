{
 "cells": [
  {
   "cell_type": "code",
   "execution_count": 1,
   "metadata": {},
   "outputs": [],
   "source": [
    "# Importing Libraries\n",
    "import pandas as pd\n",
    "import numpy as np\n",
    "\n",
    "import matplotlib.pyplot as plt\n",
    "import seaborn as sns\n",
    "\n",
    "from pycaret.regression import *"
   ]
  },
  {
   "cell_type": "code",
   "execution_count": 2,
   "metadata": {},
   "outputs": [],
   "source": [
    "# Importing USA Housing.csv\n",
    "data = pd.read_csv('insurance.csv')"
   ]
  },
  {
   "cell_type": "markdown",
   "metadata": {},
   "source": [
    "### EDA "
   ]
  },
  {
   "cell_type": "code",
   "execution_count": 3,
   "metadata": {},
   "outputs": [
    {
     "data": {
      "text/html": [
       "<div>\n",
       "<style scoped>\n",
       "    .dataframe tbody tr th:only-of-type {\n",
       "        vertical-align: middle;\n",
       "    }\n",
       "\n",
       "    .dataframe tbody tr th {\n",
       "        vertical-align: top;\n",
       "    }\n",
       "\n",
       "    .dataframe thead th {\n",
       "        text-align: right;\n",
       "    }\n",
       "</style>\n",
       "<table border=\"1\" class=\"dataframe\">\n",
       "  <thead>\n",
       "    <tr style=\"text-align: right;\">\n",
       "      <th></th>\n",
       "      <th>age</th>\n",
       "      <th>sex</th>\n",
       "      <th>bmi</th>\n",
       "      <th>children</th>\n",
       "      <th>smoker</th>\n",
       "      <th>region</th>\n",
       "      <th>charges</th>\n",
       "    </tr>\n",
       "  </thead>\n",
       "  <tbody>\n",
       "    <tr>\n",
       "      <th>0</th>\n",
       "      <td>19</td>\n",
       "      <td>female</td>\n",
       "      <td>27.900</td>\n",
       "      <td>0</td>\n",
       "      <td>yes</td>\n",
       "      <td>southwest</td>\n",
       "      <td>16884.92400</td>\n",
       "    </tr>\n",
       "    <tr>\n",
       "      <th>1</th>\n",
       "      <td>18</td>\n",
       "      <td>male</td>\n",
       "      <td>33.770</td>\n",
       "      <td>1</td>\n",
       "      <td>no</td>\n",
       "      <td>southeast</td>\n",
       "      <td>1725.55230</td>\n",
       "    </tr>\n",
       "    <tr>\n",
       "      <th>2</th>\n",
       "      <td>28</td>\n",
       "      <td>male</td>\n",
       "      <td>33.000</td>\n",
       "      <td>3</td>\n",
       "      <td>no</td>\n",
       "      <td>southeast</td>\n",
       "      <td>4449.46200</td>\n",
       "    </tr>\n",
       "    <tr>\n",
       "      <th>3</th>\n",
       "      <td>33</td>\n",
       "      <td>male</td>\n",
       "      <td>22.705</td>\n",
       "      <td>0</td>\n",
       "      <td>no</td>\n",
       "      <td>northwest</td>\n",
       "      <td>21984.47061</td>\n",
       "    </tr>\n",
       "    <tr>\n",
       "      <th>4</th>\n",
       "      <td>32</td>\n",
       "      <td>male</td>\n",
       "      <td>28.880</td>\n",
       "      <td>0</td>\n",
       "      <td>no</td>\n",
       "      <td>northwest</td>\n",
       "      <td>3866.85520</td>\n",
       "    </tr>\n",
       "  </tbody>\n",
       "</table>\n",
       "</div>"
      ],
      "text/plain": [
       "   age     sex     bmi  children smoker     region      charges\n",
       "0   19  female  27.900         0    yes  southwest  16884.92400\n",
       "1   18    male  33.770         1     no  southeast   1725.55230\n",
       "2   28    male  33.000         3     no  southeast   4449.46200\n",
       "3   33    male  22.705         0     no  northwest  21984.47061\n",
       "4   32    male  28.880         0     no  northwest   3866.85520"
      ]
     },
     "execution_count": 3,
     "metadata": {},
     "output_type": "execute_result"
    }
   ],
   "source": [
    "data.head()"
   ]
  },
  {
   "cell_type": "code",
   "execution_count": 4,
   "metadata": {},
   "outputs": [
    {
     "name": "stdout",
     "output_type": "stream",
     "text": [
      "<class 'pandas.core.frame.DataFrame'>\n",
      "RangeIndex: 1338 entries, 0 to 1337\n",
      "Data columns (total 7 columns):\n",
      " #   Column    Non-Null Count  Dtype  \n",
      "---  ------    --------------  -----  \n",
      " 0   age       1338 non-null   int64  \n",
      " 1   sex       1338 non-null   object \n",
      " 2   bmi       1338 non-null   float64\n",
      " 3   children  1338 non-null   int64  \n",
      " 4   smoker    1338 non-null   object \n",
      " 5   region    1338 non-null   object \n",
      " 6   charges   1338 non-null   float64\n",
      "dtypes: float64(2), int64(2), object(3)\n",
      "memory usage: 73.3+ KB\n"
     ]
    }
   ],
   "source": [
    "# Checking for Null Values\n",
    "data.info()"
   ]
  },
  {
   "cell_type": "code",
   "execution_count": 5,
   "metadata": {},
   "outputs": [
    {
     "data": {
      "text/html": [
       "<div>\n",
       "<style scoped>\n",
       "    .dataframe tbody tr th:only-of-type {\n",
       "        vertical-align: middle;\n",
       "    }\n",
       "\n",
       "    .dataframe tbody tr th {\n",
       "        vertical-align: top;\n",
       "    }\n",
       "\n",
       "    .dataframe thead th {\n",
       "        text-align: right;\n",
       "    }\n",
       "</style>\n",
       "<table border=\"1\" class=\"dataframe\">\n",
       "  <thead>\n",
       "    <tr style=\"text-align: right;\">\n",
       "      <th></th>\n",
       "      <th>age</th>\n",
       "      <th>bmi</th>\n",
       "      <th>children</th>\n",
       "      <th>charges</th>\n",
       "    </tr>\n",
       "  </thead>\n",
       "  <tbody>\n",
       "    <tr>\n",
       "      <th>count</th>\n",
       "      <td>1338.000000</td>\n",
       "      <td>1338.000000</td>\n",
       "      <td>1338.000000</td>\n",
       "      <td>1338.000000</td>\n",
       "    </tr>\n",
       "    <tr>\n",
       "      <th>mean</th>\n",
       "      <td>39.207025</td>\n",
       "      <td>30.663397</td>\n",
       "      <td>1.094918</td>\n",
       "      <td>13270.422265</td>\n",
       "    </tr>\n",
       "    <tr>\n",
       "      <th>std</th>\n",
       "      <td>14.049960</td>\n",
       "      <td>6.098187</td>\n",
       "      <td>1.205493</td>\n",
       "      <td>12110.011237</td>\n",
       "    </tr>\n",
       "    <tr>\n",
       "      <th>min</th>\n",
       "      <td>18.000000</td>\n",
       "      <td>15.960000</td>\n",
       "      <td>0.000000</td>\n",
       "      <td>1121.873900</td>\n",
       "    </tr>\n",
       "    <tr>\n",
       "      <th>25%</th>\n",
       "      <td>27.000000</td>\n",
       "      <td>26.296250</td>\n",
       "      <td>0.000000</td>\n",
       "      <td>4740.287150</td>\n",
       "    </tr>\n",
       "    <tr>\n",
       "      <th>50%</th>\n",
       "      <td>39.000000</td>\n",
       "      <td>30.400000</td>\n",
       "      <td>1.000000</td>\n",
       "      <td>9382.033000</td>\n",
       "    </tr>\n",
       "    <tr>\n",
       "      <th>75%</th>\n",
       "      <td>51.000000</td>\n",
       "      <td>34.693750</td>\n",
       "      <td>2.000000</td>\n",
       "      <td>16639.912515</td>\n",
       "    </tr>\n",
       "    <tr>\n",
       "      <th>max</th>\n",
       "      <td>64.000000</td>\n",
       "      <td>53.130000</td>\n",
       "      <td>5.000000</td>\n",
       "      <td>63770.428010</td>\n",
       "    </tr>\n",
       "  </tbody>\n",
       "</table>\n",
       "</div>"
      ],
      "text/plain": [
       "               age          bmi     children       charges\n",
       "count  1338.000000  1338.000000  1338.000000   1338.000000\n",
       "mean     39.207025    30.663397     1.094918  13270.422265\n",
       "std      14.049960     6.098187     1.205493  12110.011237\n",
       "min      18.000000    15.960000     0.000000   1121.873900\n",
       "25%      27.000000    26.296250     0.000000   4740.287150\n",
       "50%      39.000000    30.400000     1.000000   9382.033000\n",
       "75%      51.000000    34.693750     2.000000  16639.912515\n",
       "max      64.000000    53.130000     5.000000  63770.428010"
      ]
     },
     "execution_count": 5,
     "metadata": {},
     "output_type": "execute_result"
    }
   ],
   "source": [
    "# Getting the summary of Data\n",
    "data.describe()"
   ]
  },
  {
   "cell_type": "markdown",
   "metadata": {},
   "source": [
    "### Data Preparation"
   ]
  },
  {
   "cell_type": "markdown",
   "metadata": {},
   "source": [
    "1. There are no null values, so there is no need of deleting or replacing the data.\n",
    "2. There is no necessity of having Address column/feature, so i am dropping it."
   ]
  },
  {
   "cell_type": "code",
   "execution_count": 6,
   "metadata": {},
   "outputs": [
    {
     "data": {
      "text/html": [
       "<div>\n",
       "<style scoped>\n",
       "    .dataframe tbody tr th:only-of-type {\n",
       "        vertical-align: middle;\n",
       "    }\n",
       "\n",
       "    .dataframe tbody tr th {\n",
       "        vertical-align: top;\n",
       "    }\n",
       "\n",
       "    .dataframe thead th {\n",
       "        text-align: right;\n",
       "    }\n",
       "</style>\n",
       "<table border=\"1\" class=\"dataframe\">\n",
       "  <thead>\n",
       "    <tr style=\"text-align: right;\">\n",
       "      <th></th>\n",
       "      <th>age</th>\n",
       "      <th>sex</th>\n",
       "      <th>bmi</th>\n",
       "      <th>children</th>\n",
       "      <th>smoker</th>\n",
       "      <th>region</th>\n",
       "      <th>charges</th>\n",
       "    </tr>\n",
       "  </thead>\n",
       "  <tbody>\n",
       "    <tr>\n",
       "      <th>0</th>\n",
       "      <td>19</td>\n",
       "      <td>female</td>\n",
       "      <td>27.900</td>\n",
       "      <td>0</td>\n",
       "      <td>yes</td>\n",
       "      <td>southwest</td>\n",
       "      <td>16884.92400</td>\n",
       "    </tr>\n",
       "    <tr>\n",
       "      <th>1</th>\n",
       "      <td>18</td>\n",
       "      <td>male</td>\n",
       "      <td>33.770</td>\n",
       "      <td>1</td>\n",
       "      <td>no</td>\n",
       "      <td>southeast</td>\n",
       "      <td>1725.55230</td>\n",
       "    </tr>\n",
       "    <tr>\n",
       "      <th>2</th>\n",
       "      <td>28</td>\n",
       "      <td>male</td>\n",
       "      <td>33.000</td>\n",
       "      <td>3</td>\n",
       "      <td>no</td>\n",
       "      <td>southeast</td>\n",
       "      <td>4449.46200</td>\n",
       "    </tr>\n",
       "    <tr>\n",
       "      <th>3</th>\n",
       "      <td>33</td>\n",
       "      <td>male</td>\n",
       "      <td>22.705</td>\n",
       "      <td>0</td>\n",
       "      <td>no</td>\n",
       "      <td>northwest</td>\n",
       "      <td>21984.47061</td>\n",
       "    </tr>\n",
       "    <tr>\n",
       "      <th>4</th>\n",
       "      <td>32</td>\n",
       "      <td>male</td>\n",
       "      <td>28.880</td>\n",
       "      <td>0</td>\n",
       "      <td>no</td>\n",
       "      <td>northwest</td>\n",
       "      <td>3866.85520</td>\n",
       "    </tr>\n",
       "  </tbody>\n",
       "</table>\n",
       "</div>"
      ],
      "text/plain": [
       "   age     sex     bmi  children smoker     region      charges\n",
       "0   19  female  27.900         0    yes  southwest  16884.92400\n",
       "1   18    male  33.770         1     no  southeast   1725.55230\n",
       "2   28    male  33.000         3     no  southeast   4449.46200\n",
       "3   33    male  22.705         0     no  northwest  21984.47061\n",
       "4   32    male  28.880         0     no  northwest   3866.85520"
      ]
     },
     "execution_count": 6,
     "metadata": {},
     "output_type": "execute_result"
    }
   ],
   "source": [
    "data.head()"
   ]
  },
  {
   "cell_type": "code",
   "execution_count": null,
   "metadata": {},
   "outputs": [],
   "source": []
  },
  {
   "cell_type": "code",
   "execution_count": 7,
   "metadata": {},
   "outputs": [],
   "source": [
    "data.smoker = data.smoker.map(dict( yes = 1, no = 0))\n",
    "sex_col = pd.get_dummies(data.sex, prefix = 'sex')\n",
    "region_col = pd.get_dummies(data.region, prefix = 'region')\n",
    "\n",
    "data = pd.concat([data, sex_col, region_col], axis = 1)\n",
    "data.drop(columns = ['sex', 'region'], inplace = True)"
   ]
  },
  {
   "cell_type": "code",
   "execution_count": 8,
   "metadata": {},
   "outputs": [
    {
     "data": {
      "text/html": [
       "<div>\n",
       "<style scoped>\n",
       "    .dataframe tbody tr th:only-of-type {\n",
       "        vertical-align: middle;\n",
       "    }\n",
       "\n",
       "    .dataframe tbody tr th {\n",
       "        vertical-align: top;\n",
       "    }\n",
       "\n",
       "    .dataframe thead th {\n",
       "        text-align: right;\n",
       "    }\n",
       "</style>\n",
       "<table border=\"1\" class=\"dataframe\">\n",
       "  <thead>\n",
       "    <tr style=\"text-align: right;\">\n",
       "      <th></th>\n",
       "      <th>age</th>\n",
       "      <th>bmi</th>\n",
       "      <th>children</th>\n",
       "      <th>smoker</th>\n",
       "      <th>charges</th>\n",
       "      <th>sex_female</th>\n",
       "      <th>sex_male</th>\n",
       "      <th>region_northeast</th>\n",
       "      <th>region_northwest</th>\n",
       "      <th>region_southeast</th>\n",
       "      <th>region_southwest</th>\n",
       "    </tr>\n",
       "  </thead>\n",
       "  <tbody>\n",
       "    <tr>\n",
       "      <th>0</th>\n",
       "      <td>19</td>\n",
       "      <td>27.900</td>\n",
       "      <td>0</td>\n",
       "      <td>1</td>\n",
       "      <td>16884.92400</td>\n",
       "      <td>1</td>\n",
       "      <td>0</td>\n",
       "      <td>0</td>\n",
       "      <td>0</td>\n",
       "      <td>0</td>\n",
       "      <td>1</td>\n",
       "    </tr>\n",
       "    <tr>\n",
       "      <th>1</th>\n",
       "      <td>18</td>\n",
       "      <td>33.770</td>\n",
       "      <td>1</td>\n",
       "      <td>0</td>\n",
       "      <td>1725.55230</td>\n",
       "      <td>0</td>\n",
       "      <td>1</td>\n",
       "      <td>0</td>\n",
       "      <td>0</td>\n",
       "      <td>1</td>\n",
       "      <td>0</td>\n",
       "    </tr>\n",
       "    <tr>\n",
       "      <th>2</th>\n",
       "      <td>28</td>\n",
       "      <td>33.000</td>\n",
       "      <td>3</td>\n",
       "      <td>0</td>\n",
       "      <td>4449.46200</td>\n",
       "      <td>0</td>\n",
       "      <td>1</td>\n",
       "      <td>0</td>\n",
       "      <td>0</td>\n",
       "      <td>1</td>\n",
       "      <td>0</td>\n",
       "    </tr>\n",
       "    <tr>\n",
       "      <th>3</th>\n",
       "      <td>33</td>\n",
       "      <td>22.705</td>\n",
       "      <td>0</td>\n",
       "      <td>0</td>\n",
       "      <td>21984.47061</td>\n",
       "      <td>0</td>\n",
       "      <td>1</td>\n",
       "      <td>0</td>\n",
       "      <td>1</td>\n",
       "      <td>0</td>\n",
       "      <td>0</td>\n",
       "    </tr>\n",
       "    <tr>\n",
       "      <th>4</th>\n",
       "      <td>32</td>\n",
       "      <td>28.880</td>\n",
       "      <td>0</td>\n",
       "      <td>0</td>\n",
       "      <td>3866.85520</td>\n",
       "      <td>0</td>\n",
       "      <td>1</td>\n",
       "      <td>0</td>\n",
       "      <td>1</td>\n",
       "      <td>0</td>\n",
       "      <td>0</td>\n",
       "    </tr>\n",
       "  </tbody>\n",
       "</table>\n",
       "</div>"
      ],
      "text/plain": [
       "   age     bmi  children  smoker      charges  sex_female  sex_male  \\\n",
       "0   19  27.900         0       1  16884.92400           1         0   \n",
       "1   18  33.770         1       0   1725.55230           0         1   \n",
       "2   28  33.000         3       0   4449.46200           0         1   \n",
       "3   33  22.705         0       0  21984.47061           0         1   \n",
       "4   32  28.880         0       0   3866.85520           0         1   \n",
       "\n",
       "   region_northeast  region_northwest  region_southeast  region_southwest  \n",
       "0                 0                 0                 0                 1  \n",
       "1                 0                 0                 1                 0  \n",
       "2                 0                 0                 1                 0  \n",
       "3                 0                 1                 0                 0  \n",
       "4                 0                 1                 0                 0  "
      ]
     },
     "execution_count": 8,
     "metadata": {},
     "output_type": "execute_result"
    }
   ],
   "source": [
    "data.head()"
   ]
  },
  {
   "cell_type": "code",
   "execution_count": 9,
   "metadata": {},
   "outputs": [
    {
     "data": {
      "text/plain": [
       "<seaborn.axisgrid.PairGrid at 0x7fc56502efd0>"
      ]
     },
     "execution_count": 9,
     "metadata": {},
     "output_type": "execute_result"
    },
    {
     "data": {
      "image/png": "[encoded data removed]",
      "text/plain": [
       "<Figure size 1058.4x504 with 3 Axes>"
      ]
     },
     "metadata": {
      "needs_background": "light"
     },
     "output_type": "display_data"
    }
   ],
   "source": [
    "# Visualise the relationship between the features and the response using scatterplots\n",
    "sns.pairplot(data, x_vars=['bmi','age','children'], y_vars = 'charges', height = 7, aspect = 0.7, kind = 'scatter')"
   ]
  },
  {
   "cell_type": "code",
   "execution_count": 10,
   "metadata": {},
   "outputs": [
    {
     "data": {
      "text/plain": [
       "<AxesSubplot:>"
      ]
     },
     "execution_count": 10,
     "metadata": {},
     "output_type": "execute_result"
    },
    {
     "data": {
      "image/png": "[encoded data removed]",
      "text/plain": [
       "<Figure size 432x288 with 2 Axes>"
      ]
     },
     "metadata": {
      "needs_background": "light"
     },
     "output_type": "display_data"
    }
   ],
   "source": [
    "sns.heatmap(data.corr(), annot = True)"
   ]
  },
  {
   "cell_type": "code",
   "execution_count": 11,
   "metadata": {},
   "outputs": [
    {
     "data": {
      "text/plain": [
       "<AxesSubplot:xlabel='charges', ylabel='Density'>"
      ]
     },
     "execution_count": 11,
     "metadata": {},
     "output_type": "execute_result"
    },
    {
     "data": {
      "image/png": "[encoded data removed]",
      "text/plain": [
       "<Figure size 432x288 with 1 Axes>"
      ]
     },
     "metadata": {
      "needs_background": "light"
     },
     "output_type": "display_data"
    }
   ],
   "source": [
    "sns.distplot(data.charges)"
   ]
  },
  {
   "cell_type": "markdown",
   "metadata": {},
   "source": [
    "#### Creating a Base Model"
   ]
  },
  {
   "cell_type": "code",
   "execution_count": 12,
   "metadata": {},
   "outputs": [
    {
     "data": {
      "text/plain": [
       "Index(['age', 'bmi', 'children', 'smoker', 'charges', 'sex_female', 'sex_male',\n",
       "       'region_northeast', 'region_northwest', 'region_southeast',\n",
       "       'region_southwest'],\n",
       "      dtype='object')"
      ]
     },
     "execution_count": 12,
     "metadata": {},
     "output_type": "execute_result"
    }
   ],
   "source": [
    "data.columns"
   ]
  },
  {
   "cell_type": "code",
   "execution_count": 13,
   "metadata": {},
   "outputs": [],
   "source": [
    "# Putting feature variable to X\n",
    "X = data[['age', 'bmi', 'children', 'smoker', 'sex_female', 'sex_male', 'region_northeast', 'region_northwest', 'region_southeast', 'region_southwest']]\n",
    "\n",
    "# Putting response variable to y\n",
    "y = data['charges']"
   ]
  },
  {
   "cell_type": "code",
   "execution_count": null,
   "metadata": {},
   "outputs": [],
   "source": []
  },
  {
   "cell_type": "code",
   "execution_count": 14,
   "metadata": {},
   "outputs": [],
   "source": [
    "from sklearn.model_selection import train_test_split\n",
    "\n",
    "X_train, X_test, y_train, y_test = train_test_split(X, y, train_size = 0.65, random_state = 1234)"
   ]
  },
  {
   "cell_type": "code",
   "execution_count": 15,
   "metadata": {},
   "outputs": [
    {
     "name": "stdout",
     "output_type": "stream",
     "text": [
      "(869, 10)\n",
      "(469, 10)\n",
      "(869,)\n",
      "(469,)\n"
     ]
    }
   ],
   "source": [
    "print(X_train.shape)\n",
    "print(X_test.shape)\n",
    "print(y_train.shape)\n",
    "print(y_test.shape)"
   ]
  },
  {
   "cell_type": "code",
   "execution_count": 16,
   "metadata": {},
   "outputs": [],
   "source": [
    "X_train.columns = ['age', 'bmi', 'children', 'smoker', 'sex_female', 'sex_male', 'region_northeast', 'region_northwest', 'region_southeast', 'region_southwest']\n",
    "y_train.columns = ['charges']"
   ]
  },
  {
   "cell_type": "code",
   "execution_count": 17,
   "metadata": {},
   "outputs": [],
   "source": [
    "train_df = pd.concat([X_train, y_train], axis = 1)"
   ]
  },
  {
   "cell_type": "code",
   "execution_count": null,
   "metadata": {},
   "outputs": [],
   "source": []
  },
  {
   "cell_type": "code",
   "execution_count": 18,
   "metadata": {},
   "outputs": [
    {
     "data": {
      "text/html": [
       "<style  type=\"text/css\" >\n",
       "#T_00023_row42_col1{\n",
       "            background-color:  lightgreen;\n",
       "        }</style><table id=\"T_00023_\" ><thead>    <tr>        <th class=\"blank level0\" ></th>        <th class=\"col_heading level0 col0\" >Description</th>        <th class=\"col_heading level0 col1\" >Value</th>    </tr></thead><tbody>\n",
       "                <tr>\n",
       "                        <th id=\"T_00023_level0_row0\" class=\"row_heading level0 row0\" >0</th>\n",
       "                        <td id=\"T_00023_row0_col0\" class=\"data row0 col0\" >session_id</td>\n",
       "                        <td id=\"T_00023_row0_col1\" class=\"data row0 col1\" >6483</td>\n",
       "            </tr>\n",
       "            <tr>\n",
       "                        <th id=\"T_00023_level0_row1\" class=\"row_heading level0 row1\" >1</th>\n",
       "                        <td id=\"T_00023_row1_col0\" class=\"data row1 col0\" >Target</td>\n",
       "                        <td id=\"T_00023_row1_col1\" class=\"data row1 col1\" >charges</td>\n",
       "            </tr>\n",
       "            <tr>\n",
       "                        <th id=\"T_00023_level0_row2\" class=\"row_heading level0 row2\" >2</th>\n",
       "                        <td id=\"T_00023_row2_col0\" class=\"data row2 col0\" >Original Data</td>\n",
       "                        <td id=\"T_00023_row2_col1\" class=\"data row2 col1\" >(1338, 11)</td>\n",
       "            </tr>\n",
       "            <tr>\n",
       "                        <th id=\"T_00023_level0_row3\" class=\"row_heading level0 row3\" >3</th>\n",
       "                        <td id=\"T_00023_row3_col0\" class=\"data row3 col0\" >Missing Values</td>\n",
       "                        <td id=\"T_00023_row3_col1\" class=\"data row3 col1\" >False</td>\n",
       "            </tr>\n",
       "            <tr>\n",
       "                        <th id=\"T_00023_level0_row4\" class=\"row_heading level0 row4\" >4</th>\n",
       "                        <td id=\"T_00023_row4_col0\" class=\"data row4 col0\" >Numeric Features</td>\n",
       "                        <td id=\"T_00023_row4_col1\" class=\"data row4 col1\" >8</td>\n",
       "            </tr>\n",
       "            <tr>\n",
       "                        <th id=\"T_00023_level0_row5\" class=\"row_heading level0 row5\" >5</th>\n",
       "                        <td id=\"T_00023_row5_col0\" class=\"data row5 col0\" >Categorical Features</td>\n",
       "                        <td id=\"T_00023_row5_col1\" class=\"data row5 col1\" >2</td>\n",
       "            </tr>\n",
       "            <tr>\n",
       "                        <th id=\"T_00023_level0_row6\" class=\"row_heading level0 row6\" >6</th>\n",
       "                        <td id=\"T_00023_row6_col0\" class=\"data row6 col0\" >Ordinal Features</td>\n",
       "                        <td id=\"T_00023_row6_col1\" class=\"data row6 col1\" >False</td>\n",
       "            </tr>\n",
       "            <tr>\n",
       "                        <th id=\"T_00023_level0_row7\" class=\"row_heading level0 row7\" >7</th>\n",
       "                        <td id=\"T_00023_row7_col0\" class=\"data row7 col0\" >High Cardinality Features</td>\n",
       "                        <td id=\"T_00023_row7_col1\" class=\"data row7 col1\" >False</td>\n",
       "            </tr>\n",
       "            <tr>\n",
       "                        <th id=\"T_00023_level0_row8\" class=\"row_heading level0 row8\" >8</th>\n",
       "                        <td id=\"T_00023_row8_col0\" class=\"data row8 col0\" >High Cardinality Method</td>\n",
       "                        <td id=\"T_00023_row8_col1\" class=\"data row8 col1\" >None</td>\n",
       "            </tr>\n",
       "            <tr>\n",
       "                        <th id=\"T_00023_level0_row9\" class=\"row_heading level0 row9\" >9</th>\n",
       "                        <td id=\"T_00023_row9_col0\" class=\"data row9 col0\" >Transformed Train Set</td>\n",
       "                        <td id=\"T_00023_row9_col1\" class=\"data row9 col1\" >(936, 14)</td>\n",
       "            </tr>\n",
       "            <tr>\n",
       "                        <th id=\"T_00023_level0_row10\" class=\"row_heading level0 row10\" >10</th>\n",
       "                        <td id=\"T_00023_row10_col0\" class=\"data row10 col0\" >Transformed Test Set</td>\n",
       "                        <td id=\"T_00023_row10_col1\" class=\"data row10 col1\" >(402, 14)</td>\n",
       "            </tr>\n",
       "            <tr>\n",
       "                        <th id=\"T_00023_level0_row11\" class=\"row_heading level0 row11\" >11</th>\n",
       "                        <td id=\"T_00023_row11_col0\" class=\"data row11 col0\" >Shuffle Train-Test</td>\n",
       "                        <td id=\"T_00023_row11_col1\" class=\"data row11 col1\" >True</td>\n",
       "            </tr>\n",
       "            <tr>\n",
       "                        <th id=\"T_00023_level0_row12\" class=\"row_heading level0 row12\" >12</th>\n",
       "                        <td id=\"T_00023_row12_col0\" class=\"data row12 col0\" >Stratify Train-Test</td>\n",
       "                        <td id=\"T_00023_row12_col1\" class=\"data row12 col1\" >False</td>\n",
       "            </tr>\n",
       "            <tr>\n",
       "                        <th id=\"T_00023_level0_row13\" class=\"row_heading level0 row13\" >13</th>\n",
       "                        <td id=\"T_00023_row13_col0\" class=\"data row13 col0\" >Fold Generator</td>\n",
       "                        <td id=\"T_00023_row13_col1\" class=\"data row13 col1\" >KFold</td>\n",
       "            </tr>\n",
       "            <tr>\n",
       "                        <th id=\"T_00023_level0_row14\" class=\"row_heading level0 row14\" >14</th>\n",
       "                        <td id=\"T_00023_row14_col0\" class=\"data row14 col0\" >Fold Number</td>\n",
       "                        <td id=\"T_00023_row14_col1\" class=\"data row14 col1\" >10</td>\n",
       "            </tr>\n",
       "            <tr>\n",
       "                        <th id=\"T_00023_level0_row15\" class=\"row_heading level0 row15\" >15</th>\n",
       "                        <td id=\"T_00023_row15_col0\" class=\"data row15 col0\" >CPU Jobs</td>\n",
       "                        <td id=\"T_00023_row15_col1\" class=\"data row15 col1\" >-1</td>\n",
       "            </tr>\n",
       "            <tr>\n",
       "                        <th id=\"T_00023_level0_row16\" class=\"row_heading level0 row16\" >16</th>\n",
       "                        <td id=\"T_00023_row16_col0\" class=\"data row16 col0\" >Use GPU</td>\n",
       "                        <td id=\"T_00023_row16_col1\" class=\"data row16 col1\" >False</td>\n",
       "            </tr>\n",
       "            <tr>\n",
       "                        <th id=\"T_00023_level0_row17\" class=\"row_heading level0 row17\" >17</th>\n",
       "                        <td id=\"T_00023_row17_col0\" class=\"data row17 col0\" >Log Experiment</td>\n",
       "                        <td id=\"T_00023_row17_col1\" class=\"data row17 col1\" >False</td>\n",
       "            </tr>\n",
       "            <tr>\n",
       "                        <th id=\"T_00023_level0_row18\" class=\"row_heading level0 row18\" >18</th>\n",
       "                        <td id=\"T_00023_row18_col0\" class=\"data row18 col0\" >Experiment Name</td>\n",
       "                        <td id=\"T_00023_row18_col1\" class=\"data row18 col1\" >reg-default-name</td>\n",
       "            </tr>\n",
       "            <tr>\n",
       "                        <th id=\"T_00023_level0_row19\" class=\"row_heading level0 row19\" >19</th>\n",
       "                        <td id=\"T_00023_row19_col0\" class=\"data row19 col0\" >USI</td>\n",
       "                        <td id=\"T_00023_row19_col1\" class=\"data row19 col1\" >a196</td>\n",
       "            </tr>\n",
       "            <tr>\n",
       "                        <th id=\"T_00023_level0_row20\" class=\"row_heading level0 row20\" >20</th>\n",
       "                        <td id=\"T_00023_row20_col0\" class=\"data row20 col0\" >Imputation Type</td>\n",
       "                        <td id=\"T_00023_row20_col1\" class=\"data row20 col1\" >simple</td>\n",
       "            </tr>\n",
       "            <tr>\n",
       "                        <th id=\"T_00023_level0_row21\" class=\"row_heading level0 row21\" >21</th>\n",
       "                        <td id=\"T_00023_row21_col0\" class=\"data row21 col0\" >Iterative Imputation Iteration</td>\n",
       "                        <td id=\"T_00023_row21_col1\" class=\"data row21 col1\" >None</td>\n",
       "            </tr>\n",
       "            <tr>\n",
       "                        <th id=\"T_00023_level0_row22\" class=\"row_heading level0 row22\" >22</th>\n",
       "                        <td id=\"T_00023_row22_col0\" class=\"data row22 col0\" >Numeric Imputer</td>\n",
       "                        <td id=\"T_00023_row22_col1\" class=\"data row22 col1\" >mean</td>\n",
       "            </tr>\n",
       "            <tr>\n",
       "                        <th id=\"T_00023_level0_row23\" class=\"row_heading level0 row23\" >23</th>\n",
       "                        <td id=\"T_00023_row23_col0\" class=\"data row23 col0\" >Iterative Imputation Numeric Model</td>\n",
       "                        <td id=\"T_00023_row23_col1\" class=\"data row23 col1\" >None</td>\n",
       "            </tr>\n",
       "            <tr>\n",
       "                        <th id=\"T_00023_level0_row24\" class=\"row_heading level0 row24\" >24</th>\n",
       "                        <td id=\"T_00023_row24_col0\" class=\"data row24 col0\" >Categorical Imputer</td>\n",
       "                        <td id=\"T_00023_row24_col1\" class=\"data row24 col1\" >constant</td>\n",
       "            </tr>\n",
       "            <tr>\n",
       "                        <th id=\"T_00023_level0_row25\" class=\"row_heading level0 row25\" >25</th>\n",
       "                        <td id=\"T_00023_row25_col0\" class=\"data row25 col0\" >Iterative Imputation Categorical Model</td>\n",
       "                        <td id=\"T_00023_row25_col1\" class=\"data row25 col1\" >None</td>\n",
       "            </tr>\n",
       "            <tr>\n",
       "                        <th id=\"T_00023_level0_row26\" class=\"row_heading level0 row26\" >26</th>\n",
       "                        <td id=\"T_00023_row26_col0\" class=\"data row26 col0\" >Unknown Categoricals Handling</td>\n",
       "                        <td id=\"T_00023_row26_col1\" class=\"data row26 col1\" >least_frequent</td>\n",
       "            </tr>\n",
       "            <tr>\n",
       "                        <th id=\"T_00023_level0_row27\" class=\"row_heading level0 row27\" >27</th>\n",
       "                        <td id=\"T_00023_row27_col0\" class=\"data row27 col0\" >Normalize</td>\n",
       "                        <td id=\"T_00023_row27_col1\" class=\"data row27 col1\" >False</td>\n",
       "            </tr>\n",
       "            <tr>\n",
       "                        <th id=\"T_00023_level0_row28\" class=\"row_heading level0 row28\" >28</th>\n",
       "                        <td id=\"T_00023_row28_col0\" class=\"data row28 col0\" >Normalize Method</td>\n",
       "                        <td id=\"T_00023_row28_col1\" class=\"data row28 col1\" >None</td>\n",
       "            </tr>\n",
       "            <tr>\n",
       "                        <th id=\"T_00023_level0_row29\" class=\"row_heading level0 row29\" >29</th>\n",
       "                        <td id=\"T_00023_row29_col0\" class=\"data row29 col0\" >Transformation</td>\n",
       "                        <td id=\"T_00023_row29_col1\" class=\"data row29 col1\" >False</td>\n",
       "            </tr>\n",
       "            <tr>\n",
       "                        <th id=\"T_00023_level0_row30\" class=\"row_heading level0 row30\" >30</th>\n",
       "                        <td id=\"T_00023_row30_col0\" class=\"data row30 col0\" >Transformation Method</td>\n",
       "                        <td id=\"T_00023_row30_col1\" class=\"data row30 col1\" >None</td>\n",
       "            </tr>\n",
       "            <tr>\n",
       "                        <th id=\"T_00023_level0_row31\" class=\"row_heading level0 row31\" >31</th>\n",
       "                        <td id=\"T_00023_row31_col0\" class=\"data row31 col0\" >PCA</td>\n",
       "                        <td id=\"T_00023_row31_col1\" class=\"data row31 col1\" >False</td>\n",
       "            </tr>\n",
       "            <tr>\n",
       "                        <th id=\"T_00023_level0_row32\" class=\"row_heading level0 row32\" >32</th>\n",
       "                        <td id=\"T_00023_row32_col0\" class=\"data row32 col0\" >PCA Method</td>\n",
       "                        <td id=\"T_00023_row32_col1\" class=\"data row32 col1\" >None</td>\n",
       "            </tr>\n",
       "            <tr>\n",
       "                        <th id=\"T_00023_level0_row33\" class=\"row_heading level0 row33\" >33</th>\n",
       "                        <td id=\"T_00023_row33_col0\" class=\"data row33 col0\" >PCA Components</td>\n",
       "                        <td id=\"T_00023_row33_col1\" class=\"data row33 col1\" >None</td>\n",
       "            </tr>\n",
       "            <tr>\n",
       "                        <th id=\"T_00023_level0_row34\" class=\"row_heading level0 row34\" >34</th>\n",
       "                        <td id=\"T_00023_row34_col0\" class=\"data row34 col0\" >Ignore Low Variance</td>\n",
       "                        <td id=\"T_00023_row34_col1\" class=\"data row34 col1\" >False</td>\n",
       "            </tr>\n",
       "            <tr>\n",
       "                        <th id=\"T_00023_level0_row35\" class=\"row_heading level0 row35\" >35</th>\n",
       "                        <td id=\"T_00023_row35_col0\" class=\"data row35 col0\" >Combine Rare Levels</td>\n",
       "                        <td id=\"T_00023_row35_col1\" class=\"data row35 col1\" >False</td>\n",
       "            </tr>\n",
       "            <tr>\n",
       "                        <th id=\"T_00023_level0_row36\" class=\"row_heading level0 row36\" >36</th>\n",
       "                        <td id=\"T_00023_row36_col0\" class=\"data row36 col0\" >Rare Level Threshold</td>\n",
       "                        <td id=\"T_00023_row36_col1\" class=\"data row36 col1\" >None</td>\n",
       "            </tr>\n",
       "            <tr>\n",
       "                        <th id=\"T_00023_level0_row37\" class=\"row_heading level0 row37\" >37</th>\n",
       "                        <td id=\"T_00023_row37_col0\" class=\"data row37 col0\" >Numeric Binning</td>\n",
       "                        <td id=\"T_00023_row37_col1\" class=\"data row37 col1\" >False</td>\n",
       "            </tr>\n",
       "            <tr>\n",
       "                        <th id=\"T_00023_level0_row38\" class=\"row_heading level0 row38\" >38</th>\n",
       "                        <td id=\"T_00023_row38_col0\" class=\"data row38 col0\" >Remove Outliers</td>\n",
       "                        <td id=\"T_00023_row38_col1\" class=\"data row38 col1\" >False</td>\n",
       "            </tr>\n",
       "            <tr>\n",
       "                        <th id=\"T_00023_level0_row39\" class=\"row_heading level0 row39\" >39</th>\n",
       "                        <td id=\"T_00023_row39_col0\" class=\"data row39 col0\" >Outliers Threshold</td>\n",
       "                        <td id=\"T_00023_row39_col1\" class=\"data row39 col1\" >None</td>\n",
       "            </tr>\n",
       "            <tr>\n",
       "                        <th id=\"T_00023_level0_row40\" class=\"row_heading level0 row40\" >40</th>\n",
       "                        <td id=\"T_00023_row40_col0\" class=\"data row40 col0\" >Remove Multicollinearity</td>\n",
       "                        <td id=\"T_00023_row40_col1\" class=\"data row40 col1\" >False</td>\n",
       "            </tr>\n",
       "            <tr>\n",
       "                        <th id=\"T_00023_level0_row41\" class=\"row_heading level0 row41\" >41</th>\n",
       "                        <td id=\"T_00023_row41_col0\" class=\"data row41 col0\" >Multicollinearity Threshold</td>\n",
       "                        <td id=\"T_00023_row41_col1\" class=\"data row41 col1\" >None</td>\n",
       "            </tr>\n",
       "            <tr>\n",
       "                        <th id=\"T_00023_level0_row42\" class=\"row_heading level0 row42\" >42</th>\n",
       "                        <td id=\"T_00023_row42_col0\" class=\"data row42 col0\" >Remove Perfect Collinearity</td>\n",
       "                        <td id=\"T_00023_row42_col1\" class=\"data row42 col1\" >True</td>\n",
       "            </tr>\n",
       "            <tr>\n",
       "                        <th id=\"T_00023_level0_row43\" class=\"row_heading level0 row43\" >43</th>\n",
       "                        <td id=\"T_00023_row43_col0\" class=\"data row43 col0\" >Clustering</td>\n",
       "                        <td id=\"T_00023_row43_col1\" class=\"data row43 col1\" >False</td>\n",
       "            </tr>\n",
       "            <tr>\n",
       "                        <th id=\"T_00023_level0_row44\" class=\"row_heading level0 row44\" >44</th>\n",
       "                        <td id=\"T_00023_row44_col0\" class=\"data row44 col0\" >Clustering Iteration</td>\n",
       "                        <td id=\"T_00023_row44_col1\" class=\"data row44 col1\" >None</td>\n",
       "            </tr>\n",
       "            <tr>\n",
       "                        <th id=\"T_00023_level0_row45\" class=\"row_heading level0 row45\" >45</th>\n",
       "                        <td id=\"T_00023_row45_col0\" class=\"data row45 col0\" >Polynomial Features</td>\n",
       "                        <td id=\"T_00023_row45_col1\" class=\"data row45 col1\" >False</td>\n",
       "            </tr>\n",
       "            <tr>\n",
       "                        <th id=\"T_00023_level0_row46\" class=\"row_heading level0 row46\" >46</th>\n",
       "                        <td id=\"T_00023_row46_col0\" class=\"data row46 col0\" >Polynomial Degree</td>\n",
       "                        <td id=\"T_00023_row46_col1\" class=\"data row46 col1\" >None</td>\n",
       "            </tr>\n",
       "            <tr>\n",
       "                        <th id=\"T_00023_level0_row47\" class=\"row_heading level0 row47\" >47</th>\n",
       "                        <td id=\"T_00023_row47_col0\" class=\"data row47 col0\" >Trignometry Features</td>\n",
       "                        <td id=\"T_00023_row47_col1\" class=\"data row47 col1\" >False</td>\n",
       "            </tr>\n",
       "            <tr>\n",
       "                        <th id=\"T_00023_level0_row48\" class=\"row_heading level0 row48\" >48</th>\n",
       "                        <td id=\"T_00023_row48_col0\" class=\"data row48 col0\" >Polynomial Threshold</td>\n",
       "                        <td id=\"T_00023_row48_col1\" class=\"data row48 col1\" >None</td>\n",
       "            </tr>\n",
       "            <tr>\n",
       "                        <th id=\"T_00023_level0_row49\" class=\"row_heading level0 row49\" >49</th>\n",
       "                        <td id=\"T_00023_row49_col0\" class=\"data row49 col0\" >Group Features</td>\n",
       "                        <td id=\"T_00023_row49_col1\" class=\"data row49 col1\" >False</td>\n",
       "            </tr>\n",
       "            <tr>\n",
       "                        <th id=\"T_00023_level0_row50\" class=\"row_heading level0 row50\" >50</th>\n",
       "                        <td id=\"T_00023_row50_col0\" class=\"data row50 col0\" >Feature Selection</td>\n",
       "                        <td id=\"T_00023_row50_col1\" class=\"data row50 col1\" >False</td>\n",
       "            </tr>\n",
       "            <tr>\n",
       "                        <th id=\"T_00023_level0_row51\" class=\"row_heading level0 row51\" >51</th>\n",
       "                        <td id=\"T_00023_row51_col0\" class=\"data row51 col0\" >Feature Selection Method</td>\n",
       "                        <td id=\"T_00023_row51_col1\" class=\"data row51 col1\" >classic</td>\n",
       "            </tr>\n",
       "            <tr>\n",
       "                        <th id=\"T_00023_level0_row52\" class=\"row_heading level0 row52\" >52</th>\n",
       "                        <td id=\"T_00023_row52_col0\" class=\"data row52 col0\" >Features Selection Threshold</td>\n",
       "                        <td id=\"T_00023_row52_col1\" class=\"data row52 col1\" >None</td>\n",
       "            </tr>\n",
       "            <tr>\n",
       "                        <th id=\"T_00023_level0_row53\" class=\"row_heading level0 row53\" >53</th>\n",
       "                        <td id=\"T_00023_row53_col0\" class=\"data row53 col0\" >Feature Interaction</td>\n",
       "                        <td id=\"T_00023_row53_col1\" class=\"data row53 col1\" >False</td>\n",
       "            </tr>\n",
       "            <tr>\n",
       "                        <th id=\"T_00023_level0_row54\" class=\"row_heading level0 row54\" >54</th>\n",
       "                        <td id=\"T_00023_row54_col0\" class=\"data row54 col0\" >Feature Ratio</td>\n",
       "                        <td id=\"T_00023_row54_col1\" class=\"data row54 col1\" >False</td>\n",
       "            </tr>\n",
       "            <tr>\n",
       "                        <th id=\"T_00023_level0_row55\" class=\"row_heading level0 row55\" >55</th>\n",
       "                        <td id=\"T_00023_row55_col0\" class=\"data row55 col0\" >Interaction Threshold</td>\n",
       "                        <td id=\"T_00023_row55_col1\" class=\"data row55 col1\" >None</td>\n",
       "            </tr>\n",
       "            <tr>\n",
       "                        <th id=\"T_00023_level0_row56\" class=\"row_heading level0 row56\" >56</th>\n",
       "                        <td id=\"T_00023_row56_col0\" class=\"data row56 col0\" >Transform Target</td>\n",
       "                        <td id=\"T_00023_row56_col1\" class=\"data row56 col1\" >False</td>\n",
       "            </tr>\n",
       "            <tr>\n",
       "                        <th id=\"T_00023_level0_row57\" class=\"row_heading level0 row57\" >57</th>\n",
       "                        <td id=\"T_00023_row57_col0\" class=\"data row57 col0\" >Transform Target Method</td>\n",
       "                        <td id=\"T_00023_row57_col1\" class=\"data row57 col1\" >box-cox</td>\n",
       "            </tr>\n",
       "    </tbody></table>"
      ],
      "text/plain": [
       "<pandas.io.formats.style.Styler at 0x7fc566a41a00>"
      ]
     },
     "metadata": {},
     "output_type": "display_data"
    }
   ],
   "source": [
    "exp_reg101 = setup(data = data, target = 'charges') "
   ]
  },
  {
   "cell_type": "code",
   "execution_count": 19,
   "metadata": {},
   "outputs": [
    {
     "data": {
      "text/html": [
       "<style  type=\"text/css\" >\n",
       "    #T_7ef01_ th {\n",
       "          text-align: left;\n",
       "    }#T_7ef01_row0_col0,#T_7ef01_row0_col1,#T_7ef01_row0_col2,#T_7ef01_row0_col3,#T_7ef01_row0_col5,#T_7ef01_row0_col6,#T_7ef01_row1_col0,#T_7ef01_row1_col1,#T_7ef01_row1_col5,#T_7ef01_row1_col6,#T_7ef01_row2_col0,#T_7ef01_row2_col2,#T_7ef01_row2_col3,#T_7ef01_row2_col4,#T_7ef01_row3_col0,#T_7ef01_row3_col1,#T_7ef01_row3_col2,#T_7ef01_row3_col3,#T_7ef01_row3_col4,#T_7ef01_row3_col5,#T_7ef01_row3_col6,#T_7ef01_row4_col0,#T_7ef01_row4_col1,#T_7ef01_row4_col2,#T_7ef01_row4_col3,#T_7ef01_row4_col4,#T_7ef01_row4_col5,#T_7ef01_row4_col6,#T_7ef01_row5_col0,#T_7ef01_row5_col1,#T_7ef01_row5_col2,#T_7ef01_row5_col3,#T_7ef01_row5_col4,#T_7ef01_row5_col5,#T_7ef01_row5_col6,#T_7ef01_row6_col0,#T_7ef01_row6_col1,#T_7ef01_row6_col2,#T_7ef01_row6_col3,#T_7ef01_row6_col4,#T_7ef01_row6_col5,#T_7ef01_row6_col6{\n",
       "            text-align:  left;\n",
       "            text-align:  left;\n",
       "        }#T_7ef01_row0_col4,#T_7ef01_row1_col2,#T_7ef01_row1_col3,#T_7ef01_row1_col4,#T_7ef01_row2_col1,#T_7ef01_row2_col5,#T_7ef01_row2_col6{\n",
       "            text-align:  left;\n",
       "            text-align:  left;\n",
       "            background-color:  yellow;\n",
       "        }#T_7ef01_row0_col7,#T_7ef01_row1_col7,#T_7ef01_row2_col7,#T_7ef01_row4_col7,#T_7ef01_row5_col7,#T_7ef01_row6_col7{\n",
       "            text-align:  left;\n",
       "            text-align:  left;\n",
       "            background-color:  lightgrey;\n",
       "        }#T_7ef01_row3_col7{\n",
       "            text-align:  left;\n",
       "            text-align:  left;\n",
       "            background-color:  yellow;\n",
       "            background-color:  lightgrey;\n",
       "        }</style><table id=\"T_7ef01_\" ><thead>    <tr>        <th class=\"blank level0\" ></th>        <th class=\"col_heading level0 col0\" >Model</th>        <th class=\"col_heading level0 col1\" >MAE</th>        <th class=\"col_heading level0 col2\" >MSE</th>        <th class=\"col_heading level0 col3\" >RMSE</th>        <th class=\"col_heading level0 col4\" >R2</th>        <th class=\"col_heading level0 col5\" >RMSLE</th>        <th class=\"col_heading level0 col6\" >MAPE</th>        <th class=\"col_heading level0 col7\" >TT (Sec)</th>    </tr></thead><tbody>\n",
       "                <tr>\n",
       "                        <th id=\"T_7ef01_level0_row0\" class=\"row_heading level0 row0\" >lr</th>\n",
       "                        <td id=\"T_7ef01_row0_col0\" class=\"data row0 col0\" >Linear Regression</td>\n",
       "                        <td id=\"T_7ef01_row0_col1\" class=\"data row0 col1\" >4404.1733</td>\n",
       "                        <td id=\"T_7ef01_row0_col2\" class=\"data row0 col2\" >39456539.6000</td>\n",
       "                        <td id=\"T_7ef01_row0_col3\" class=\"data row0 col3\" >6244.1775</td>\n",
       "                        <td id=\"T_7ef01_row0_col4\" class=\"data row0 col4\" >0.7317</td>\n",
       "                        <td id=\"T_7ef01_row0_col5\" class=\"data row0 col5\" >0.5672</td>\n",
       "                        <td id=\"T_7ef01_row0_col6\" class=\"data row0 col6\" >0.4288</td>\n",
       "                        <td id=\"T_7ef01_row0_col7\" class=\"data row0 col7\" >0.3660</td>\n",
       "            </tr>\n",
       "            <tr>\n",
       "                        <th id=\"T_7ef01_level0_row1\" class=\"row_heading level0 row1\" >lar</th>\n",
       "                        <td id=\"T_7ef01_row1_col0\" class=\"data row1 col0\" >Least Angle Regression</td>\n",
       "                        <td id=\"T_7ef01_row1_col1\" class=\"data row1 col1\" >4403.5252</td>\n",
       "                        <td id=\"T_7ef01_row1_col2\" class=\"data row1 col2\" >39448070.3487</td>\n",
       "                        <td id=\"T_7ef01_row1_col3\" class=\"data row1 col3\" >6243.5232</td>\n",
       "                        <td id=\"T_7ef01_row1_col4\" class=\"data row1 col4\" >0.7317</td>\n",
       "                        <td id=\"T_7ef01_row1_col5\" class=\"data row1 col5\" >0.5691</td>\n",
       "                        <td id=\"T_7ef01_row1_col6\" class=\"data row1 col6\" >0.4288</td>\n",
       "                        <td id=\"T_7ef01_row1_col7\" class=\"data row1 col7\" >0.0090</td>\n",
       "            </tr>\n",
       "            <tr>\n",
       "                        <th id=\"T_7ef01_level0_row2\" class=\"row_heading level0 row2\" >huber</th>\n",
       "                        <td id=\"T_7ef01_row2_col0\" class=\"data row2 col0\" >Huber Regressor</td>\n",
       "                        <td id=\"T_7ef01_row2_col1\" class=\"data row2 col1\" >3625.9639</td>\n",
       "                        <td id=\"T_7ef01_row2_col2\" class=\"data row2 col2\" >51255659.4559</td>\n",
       "                        <td id=\"T_7ef01_row2_col3\" class=\"data row2 col3\" >7121.8758</td>\n",
       "                        <td id=\"T_7ef01_row2_col4\" class=\"data row2 col4\" >0.6460</td>\n",
       "                        <td id=\"T_7ef01_row2_col5\" class=\"data row2 col5\" >0.4695</td>\n",
       "                        <td id=\"T_7ef01_row2_col6\" class=\"data row2 col6\" >0.2202</td>\n",
       "                        <td id=\"T_7ef01_row2_col7\" class=\"data row2 col7\" >0.0270</td>\n",
       "            </tr>\n",
       "            <tr>\n",
       "                        <th id=\"T_7ef01_level0_row3\" class=\"row_heading level0 row3\" >omp</th>\n",
       "                        <td id=\"T_7ef01_row3_col0\" class=\"data row3 col0\" >Orthogonal Matching Pursuit</td>\n",
       "                        <td id=\"T_7ef01_row3_col1\" class=\"data row3 col1\" >5853.4823</td>\n",
       "                        <td id=\"T_7ef01_row3_col2\" class=\"data row3 col2\" >58554737.3276</td>\n",
       "                        <td id=\"T_7ef01_row3_col3\" class=\"data row3 col3\" >7636.2732</td>\n",
       "                        <td id=\"T_7ef01_row3_col4\" class=\"data row3 col4\" >0.6013</td>\n",
       "                        <td id=\"T_7ef01_row3_col5\" class=\"data row3 col5\" >0.7176</td>\n",
       "                        <td id=\"T_7ef01_row3_col6\" class=\"data row3 col6\" >0.8540</td>\n",
       "                        <td id=\"T_7ef01_row3_col7\" class=\"data row3 col7\" >0.0070</td>\n",
       "            </tr>\n",
       "            <tr>\n",
       "                        <th id=\"T_7ef01_level0_row4\" class=\"row_heading level0 row4\" >par</th>\n",
       "                        <td id=\"T_7ef01_row4_col0\" class=\"data row4 col0\" >Passive Aggressive Regressor</td>\n",
       "                        <td id=\"T_7ef01_row4_col1\" class=\"data row4 col1\" >4545.3556</td>\n",
       "                        <td id=\"T_7ef01_row4_col2\" class=\"data row4 col2\" >66448640.3369</td>\n",
       "                        <td id=\"T_7ef01_row4_col3\" class=\"data row4 col3\" >8072.0095</td>\n",
       "                        <td id=\"T_7ef01_row4_col4\" class=\"data row4 col4\" >0.5555</td>\n",
       "                        <td id=\"T_7ef01_row4_col5\" class=\"data row4 col5\" >0.5084</td>\n",
       "                        <td id=\"T_7ef01_row4_col6\" class=\"data row4 col6\" >0.3061</td>\n",
       "                        <td id=\"T_7ef01_row4_col7\" class=\"data row4 col7\" >0.0100</td>\n",
       "            </tr>\n",
       "            <tr>\n",
       "                        <th id=\"T_7ef01_level0_row5\" class=\"row_heading level0 row5\" >en</th>\n",
       "                        <td id=\"T_7ef01_row5_col0\" class=\"data row5 col0\" >Elastic Net</td>\n",
       "                        <td id=\"T_7ef01_row5_col1\" class=\"data row5 col1\" >7456.0372</td>\n",
       "                        <td id=\"T_7ef01_row5_col2\" class=\"data row5 col2\" >91002481.6000</td>\n",
       "                        <td id=\"T_7ef01_row5_col3\" class=\"data row5 col3\" >9506.7091</td>\n",
       "                        <td id=\"T_7ef01_row5_col4\" class=\"data row5 col4\" >0.3856</td>\n",
       "                        <td id=\"T_7ef01_row5_col5\" class=\"data row5 col5\" >0.7314</td>\n",
       "                        <td id=\"T_7ef01_row5_col6\" class=\"data row5 col6\" >0.9136</td>\n",
       "                        <td id=\"T_7ef01_row5_col7\" class=\"data row5 col7\" >0.0080</td>\n",
       "            </tr>\n",
       "            <tr>\n",
       "                        <th id=\"T_7ef01_level0_row6\" class=\"row_heading level0 row6\" >knn</th>\n",
       "                        <td id=\"T_7ef01_row6_col0\" class=\"data row6 col0\" >K Neighbors Regressor</td>\n",
       "                        <td id=\"T_7ef01_row6_col1\" class=\"data row6 col1\" >7931.1727</td>\n",
       "                        <td id=\"T_7ef01_row6_col2\" class=\"data row6 col2\" >129927761.6000</td>\n",
       "                        <td id=\"T_7ef01_row6_col3\" class=\"data row6 col3\" >11366.5995</td>\n",
       "                        <td id=\"T_7ef01_row6_col4\" class=\"data row6 col4\" >0.1202</td>\n",
       "                        <td id=\"T_7ef01_row6_col5\" class=\"data row6 col5\" >0.8315</td>\n",
       "                        <td id=\"T_7ef01_row6_col6\" class=\"data row6 col6\" >0.8833</td>\n",
       "                        <td id=\"T_7ef01_row6_col7\" class=\"data row6 col7\" >0.0100</td>\n",
       "            </tr>\n",
       "    </tbody></table>"
      ],
      "text/plain": [
       "<pandas.io.formats.style.Styler at 0x7fc566cd9e80>"
      ]
     },
     "metadata": {},
     "output_type": "display_data"
    },
    {
     "data": {
      "text/plain": [
       "LinearRegression(copy_X=True, fit_intercept=True, n_jobs=-1, normalize=False)"
      ]
     },
     "execution_count": 19,
     "metadata": {},
     "output_type": "execute_result"
    }
   ],
   "source": [
    "compare_models(exclude = ['gbr', 'rf', 'lightgbm', 'et', 'ada', 'dt', 'llar', 'ridge', 'br', 'lasso'])"
   ]
  },
  {
   "cell_type": "code",
   "execution_count": null,
   "metadata": {},
   "outputs": [],
   "source": []
  },
  {
   "cell_type": "code",
   "execution_count": 20,
   "metadata": {},
   "outputs": [],
   "source": [
    "# Importing LinearRegression\n",
    "\n",
    "from sklearn.linear_model import LinearRegression"
   ]
  },
  {
   "cell_type": "code",
   "execution_count": 21,
   "metadata": {},
   "outputs": [],
   "source": [
    "lm = LinearRegression()"
   ]
  },
  {
   "cell_type": "code",
   "execution_count": 22,
   "metadata": {},
   "outputs": [
    {
     "data": {
      "text/plain": [
       "LinearRegression(copy_X=True, fit_intercept=True, n_jobs=None, normalize=False)"
      ]
     },
     "execution_count": 22,
     "metadata": {},
     "output_type": "execute_result"
    }
   ],
   "source": [
    "# fit the model to the training data\n",
    "\n",
    "lm.fit(X_train, y_train)"
   ]
  },
  {
   "cell_type": "code",
   "execution_count": 23,
   "metadata": {},
   "outputs": [
    {
     "name": "stdout",
     "output_type": "stream",
     "text": [
      "-10788.807795555284\n"
     ]
    }
   ],
   "source": [
    "# print the intercept\n",
    "\n",
    "print(lm.intercept_)"
   ]
  },
  {
   "cell_type": "code",
   "execution_count": 24,
   "metadata": {},
   "outputs": [
    {
     "data": {
      "text/html": [
       "<div>\n",
       "<style scoped>\n",
       "    .dataframe tbody tr th:only-of-type {\n",
       "        vertical-align: middle;\n",
       "    }\n",
       "\n",
       "    .dataframe tbody tr th {\n",
       "        vertical-align: top;\n",
       "    }\n",
       "\n",
       "    .dataframe thead th {\n",
       "        text-align: right;\n",
       "    }\n",
       "</style>\n",
       "<table border=\"1\" class=\"dataframe\">\n",
       "  <thead>\n",
       "    <tr style=\"text-align: right;\">\n",
       "      <th></th>\n",
       "      <th>Coefficient</th>\n",
       "    </tr>\n",
       "  </thead>\n",
       "  <tbody>\n",
       "    <tr>\n",
       "      <th>age</th>\n",
       "      <td>251.952024</td>\n",
       "    </tr>\n",
       "    <tr>\n",
       "      <th>bmi</th>\n",
       "      <td>287.398437</td>\n",
       "    </tr>\n",
       "    <tr>\n",
       "      <th>children</th>\n",
       "      <td>457.215311</td>\n",
       "    </tr>\n",
       "    <tr>\n",
       "      <th>smoker</th>\n",
       "      <td>24242.060420</td>\n",
       "    </tr>\n",
       "    <tr>\n",
       "      <th>sex_female</th>\n",
       "      <td>221.978887</td>\n",
       "    </tr>\n",
       "    <tr>\n",
       "      <th>sex_male</th>\n",
       "      <td>-221.978887</td>\n",
       "    </tr>\n",
       "    <tr>\n",
       "      <th>region_northeast</th>\n",
       "      <td>812.653697</td>\n",
       "    </tr>\n",
       "    <tr>\n",
       "      <th>region_northwest</th>\n",
       "      <td>-196.775908</td>\n",
       "    </tr>\n",
       "    <tr>\n",
       "      <th>region_southeast</th>\n",
       "      <td>-265.500043</td>\n",
       "    </tr>\n",
       "    <tr>\n",
       "      <th>region_southwest</th>\n",
       "      <td>-350.377746</td>\n",
       "    </tr>\n",
       "  </tbody>\n",
       "</table>\n",
       "</div>"
      ],
      "text/plain": [
       "                   Coefficient\n",
       "age                 251.952024\n",
       "bmi                 287.398437\n",
       "children            457.215311\n",
       "smoker            24242.060420\n",
       "sex_female          221.978887\n",
       "sex_male           -221.978887\n",
       "region_northeast    812.653697\n",
       "region_northwest   -196.775908\n",
       "region_southeast   -265.500043\n",
       "region_southwest   -350.377746"
      ]
     },
     "execution_count": 24,
     "metadata": {},
     "output_type": "execute_result"
    }
   ],
   "source": [
    "# Let's see the coefficient\n",
    "\n",
    "coeff_df = pd.DataFrame(lm.coef_, X_test.columns, columns=['Coefficient'])\n",
    "coeff_df"
   ]
  },
  {
   "cell_type": "markdown",
   "metadata": {},
   "source": [
    "From the above result we may infer that coefficient of Columns like 'Avg. Area House Age','Avg. Area Number of Rooms' and 'Avg. Area Number of Bedrooms' are influencing more as compared to other, hence we need to do scaling."
   ]
  },
  {
   "cell_type": "code",
   "execution_count": 25,
   "metadata": {},
   "outputs": [],
   "source": [
    "# Making predictions using the model\n",
    "y_pred = lm.predict(X_test)"
   ]
  },
  {
   "cell_type": "code",
   "execution_count": 26,
   "metadata": {},
   "outputs": [],
   "source": [
    "from sklearn.metrics import mean_squared_error, r2_score\n",
    "\n",
    "r_squared = r2_score(y_test, y_pred)"
   ]
  },
  {
   "cell_type": "code",
   "execution_count": 27,
   "metadata": {},
   "outputs": [
    {
     "name": "stdout",
     "output_type": "stream",
     "text": [
      "r_square_value : 0.7461348142124099\n"
     ]
    }
   ],
   "source": [
    "print('r_square_value :',r_squared)"
   ]
  },
  {
   "cell_type": "code",
   "execution_count": null,
   "metadata": {},
   "outputs": [],
   "source": []
  },
  {
   "cell_type": "code",
   "execution_count": 28,
   "metadata": {},
   "outputs": [],
   "source": [
    "from sklearn.cluster import KMeans"
   ]
  },
  {
   "cell_type": "code",
   "execution_count": 29,
   "metadata": {},
   "outputs": [
    {
     "name": "stdout",
     "output_type": "stream",
     "text": [
      "Clusters : 1, r_square_value :  0.74613481421241 \n",
      "\n",
      "Clusters : 2, r_square_value :  0.7497451727608337 \n",
      "\n",
      "Clusters : 3, r_square_value :  0.7417756263168582 \n",
      "\n",
      "Clusters : 4, r_square_value :  0.7658618845596769 \n",
      "\n",
      "Clusters : 5, r_square_value :  0.8001709313468982 \n",
      "\n",
      "Clusters : 6, r_square_value :  0.7993380772247551 \n",
      "\n",
      "Clusters : 7, r_square_value :  0.8227194699459552 \n",
      "\n",
      "Clusters : 8, r_square_value :  0.833354559003959 \n",
      "\n",
      "Clusters : 9, r_square_value :  0.8216283613734934 \n",
      "\n",
      "Clusters : 10, r_square_value :  0.824571529410496 \n",
      "\n",
      "Clusters : 11, r_square_value :  0.832156686991159 \n",
      "\n",
      "Clusters : 12, r_square_value :  0.8220546608830319 \n",
      "\n",
      "Clusters : 13, r_square_value :  0.8268507444938628 \n",
      "\n",
      "Clusters : 14, r_square_value :  0.8367123798297456 \n",
      "\n",
      "Clusters : 15, r_square_value :  0.8258409873513854 \n",
      "\n",
      "Clusters : 16, r_square_value :  0.8126930364246516 \n",
      "\n",
      "Clusters : 17, r_square_value :  0.8071594306129947 \n",
      "\n",
      "Clusters : 18, r_square_value :  0.8150542551809553 \n",
      "\n",
      "Clusters : 19, r_square_value :  0.8109525359102172 \n",
      "\n",
      "Clusters : 20, r_square_value :  0.8002081773493902 \n",
      "\n",
      "Clusters : 21, r_square_value :  0.8020628266820965 \n",
      "\n",
      "Clusters : 22, r_square_value :  0.8085061485342678 \n",
      "\n",
      "Clusters : 23, r_square_value :  0.7986103911238863 \n",
      "\n",
      "Clusters : 24, r_square_value :  0.7998035530541656 \n",
      "\n",
      "Clusters : 25, r_square_value :  0.8043228722559752 \n",
      "\n",
      "Clusters : 26, r_square_value :  0.8151955140991689 \n",
      "\n",
      "Clusters : 27, r_square_value :  0.7985684482186775 \n",
      "\n",
      "Clusters : 28, r_square_value :  0.7405153845669266 \n",
      "\n",
      "Clusters : 29, r_square_value :  0.7146061024668873 \n",
      "\n",
      "Clusters : 30, r_square_value :  0.7961320687326434 \n",
      "\n"
     ]
    }
   ],
   "source": [
    "all_centers = []\n",
    "all_rsquared = []\n",
    "all_lms = []\n",
    "\n",
    "for clusters in range(1, 31):\n",
    "    \n",
    "    kmeans = KMeans(n_clusters = clusters, random_state = 16).fit(X_train)\n",
    "    \n",
    "    all_centers.append(kmeans.cluster_centers_)\n",
    "    \n",
    "    dframes = []\n",
    "\n",
    "    for i in range(clusters):\n",
    "        dframes.append(pd.DataFrame(columns = train_df.columns))\n",
    "\n",
    "    labels = list(kmeans.labels_)\n",
    "\n",
    "    for i in range(len(labels)):\n",
    "        dframes[labels[i]].loc[len(dframes[labels[i]].index)] = list(train_df.iloc[i,:].values)\n",
    "\n",
    "    Xs = []\n",
    "    ys = []\n",
    "    lms = []\n",
    "\n",
    "    for i in range(clusters):\n",
    "        Xs.append(dframes[i][['age', 'bmi', 'children', 'smoker', 'sex_female', 'sex_male', 'region_northeast', 'region_northwest', 'region_southeast', 'region_southwest']])\n",
    "        ys.append(dframes[i][['charges']])\n",
    "        lms.append(LinearRegression())\n",
    "        lms[i].fit(Xs[i], ys[i])\n",
    "\n",
    "    all_lms.append(lms)\n",
    "    \n",
    "    y_pred = []\n",
    "\n",
    "    for i in range(len(X_test)):\n",
    "        temp = np.array(X_test.iloc[i,:]).reshape(1, -1)\n",
    "        y_pred.append(lms[int(kmeans.predict(temp))].predict(temp))\n",
    "\n",
    "    y_pred = np.array(y_pred).reshape(X_test.shape[0], )\n",
    "\n",
    "    r_squared = r2_score(y_test, y_pred)\n",
    "    \n",
    "    all_rsquared.append(r_squared)\n",
    "    \n",
    "    print(\"Clusters : \" + str(clusters) + \", r_square_value : \", r_squared, \"\\n\")"
   ]
  },
  {
   "cell_type": "code",
   "execution_count": 30,
   "metadata": {},
   "outputs": [],
   "source": [
    "max_index = all_rsquared.index(max(all_rsquared))"
   ]
  },
  {
   "cell_type": "code",
   "execution_count": 31,
   "metadata": {},
   "outputs": [],
   "source": [
    "output_clusters = pd.DataFrame(columns = X_train.columns)\n",
    "output_lms = pd.DataFrame(columns = X_train.columns.insert(0, \"Intercept\"))"
   ]
  },
  {
   "cell_type": "code",
   "execution_count": 32,
   "metadata": {
    "scrolled": true
   },
   "outputs": [],
   "source": [
    "for i in range(max_index + 1):\n",
    "    output_clusters.loc[len(output_clusters.index)] = list(all_centers[max_index][i])\n",
    "    output_lms.loc[len(output_lms.index)] = list(all_lms[max_index][i].intercept_) + list(all_lms[max_index][i].coef_.tolist()[0])"
   ]
  },
  {
   "cell_type": "code",
   "execution_count": 33,
   "metadata": {},
   "outputs": [],
   "source": [
    "output_clusters.to_csv(\"ClusterInfo.csv\", index = False)\n",
    "output_lms.to_csv(\"LMSInfo.csv\", index = False)"
   ]
  }
 ],
 "metadata": {
  "kernelspec": {
   "display_name": "Python 3",
   "language": "python",
   "name": "python3"
  },
  "language_info": {
   "codemirror_mode": {
    "name": "ipython",
    "version": 3
   },
   "file_extension": ".py",
   "mimetype": "text/x-python",
   "name": "python",
   "nbconvert_exporter": "python",
   "pygments_lexer": "ipython3",
   "version": "3.9.5"
  }
 },
 "nbformat": 4,
 "nbformat_minor": 1
}
